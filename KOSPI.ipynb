{
 "cells": [
  {
   "cell_type": "code",
   "execution_count": null,
   "metadata": {
    "collapsed": true
   },
   "outputs": [],
   "source": []
  },
  {
   "cell_type": "code",
   "execution_count": 12,
   "metadata": {
    "collapsed": true
   },
   "outputs": [],
   "source": [
    "from pandas_datareader.google.daily import GoogleDailyReader\n",
    "GoogleDailyReader??"
   ]
  },
  {
   "cell_type": "code",
   "execution_count": 17,
   "metadata": {},
   "outputs": [
    {
     "data": {
      "text/html": [
       "<div>\n",
       "<style>\n",
       "    .dataframe thead tr:only-child th {\n",
       "        text-align: right;\n",
       "    }\n",
       "\n",
       "    .dataframe thead th {\n",
       "        text-align: left;\n",
       "    }\n",
       "\n",
       "    .dataframe tbody tr th {\n",
       "        vertical-align: top;\n",
       "    }\n",
       "</style>\n",
       "<table border=\"1\" class=\"dataframe\">\n",
       "  <thead>\n",
       "    <tr style=\"text-align: right;\">\n",
       "      <th></th>\n",
       "      <th>Open</th>\n",
       "      <th>High</th>\n",
       "      <th>Low</th>\n",
       "      <th>Close</th>\n",
       "      <th>Volume</th>\n",
       "    </tr>\n",
       "    <tr>\n",
       "      <th>Date</th>\n",
       "      <th></th>\n",
       "      <th></th>\n",
       "      <th></th>\n",
       "      <th></th>\n",
       "      <th></th>\n",
       "    </tr>\n",
       "  </thead>\n",
       "  <tbody>\n",
       "    <tr>\n",
       "      <th>2015-03-19</th>\n",
       "      <td>2047.13</td>\n",
       "      <td>2047.13</td>\n",
       "      <td>2031.07</td>\n",
       "      <td>2037.89</td>\n",
       "      <td>468284000</td>\n",
       "    </tr>\n",
       "    <tr>\n",
       "      <th>2015-03-20</th>\n",
       "      <td>2037.13</td>\n",
       "      <td>2040.00</td>\n",
       "      <td>2027.81</td>\n",
       "      <td>2037.24</td>\n",
       "      <td>351731000</td>\n",
       "    </tr>\n",
       "    <tr>\n",
       "      <th>2015-03-23</th>\n",
       "      <td>2043.22</td>\n",
       "      <td>2043.92</td>\n",
       "      <td>2032.35</td>\n",
       "      <td>2036.59</td>\n",
       "      <td>314897000</td>\n",
       "    </tr>\n",
       "    <tr>\n",
       "      <th>2015-03-24</th>\n",
       "      <td>2035.08</td>\n",
       "      <td>2041.77</td>\n",
       "      <td>2028.54</td>\n",
       "      <td>2041.37</td>\n",
       "      <td>328833000</td>\n",
       "    </tr>\n",
       "    <tr>\n",
       "      <th>2015-03-25</th>\n",
       "      <td>2043.16</td>\n",
       "      <td>2046.97</td>\n",
       "      <td>2038.14</td>\n",
       "      <td>2042.81</td>\n",
       "      <td>423409000</td>\n",
       "    </tr>\n",
       "  </tbody>\n",
       "</table>\n",
       "</div>"
      ],
      "text/plain": [
       "               Open     High      Low    Close     Volume\n",
       "Date                                                     \n",
       "2015-03-19  2047.13  2047.13  2031.07  2037.89  468284000\n",
       "2015-03-20  2037.13  2040.00  2027.81  2037.24  351731000\n",
       "2015-03-23  2043.22  2043.92  2032.35  2036.59  314897000\n",
       "2015-03-24  2035.08  2041.77  2028.54  2041.37  328833000\n",
       "2015-03-25  2043.16  2046.97  2038.14  2042.81  423409000"
      ]
     },
     "execution_count": 17,
     "metadata": {},
     "output_type": "execute_result"
    }
   ],
   "source": [
    "from pandas_datareader import data, wb  \n",
    "from datetime import datetime\n",
    "\n",
    "\n",
    "df = data.DataReader(  \n",
    "    \"KRX: KOSPI\",        # name\n",
    "    \"google\",           # data source\n",
    "    datetime(2015, 3, 19),   # start\n",
    "    datetime(2017, 12, 13)   # end\n",
    ")\n",
    "df.to_csv(\"KOSPI.csv\")\n",
    "df.head()\n"
   ]
  },
  {
   "cell_type": "code",
   "execution_count": 18,
   "metadata": {},
   "outputs": [
    {
     "data": {
      "text/plain": [
       "(735676.0, 736676.0)"
      ]
     },
     "execution_count": 18,
     "metadata": {},
     "output_type": "execute_result"
    },
    {
     "data": {
      "image/png": "[encoded data removed]",
      "text/plain": [
       "<matplotlib.figure.Figure at 0x111df39e8>"
      ]
     },
     "metadata": {},
     "output_type": "display_data"
    }
   ],
   "source": [
    "ax = df.Close.plot()\n",
    "ax.set_title(\"KOSPI\")  \n",
    "ax.set_ylabel(\"Index\")  \n",
    "ax.set_xlim(\"2015-03-19\", \"2017-12-13\")  "
   ]
  },
  {
   "cell_type": "markdown",
   "metadata": {},
   "source": [
    "# 히든 마코프 모델 적용"
   ]
  }
 ],
 "metadata": {
  "kernelspec": {
   "display_name": "Python 3",
   "language": "python",
   "name": "python3"
  }
 },
 "nbformat": 4,
 "nbformat_minor": 2
}
